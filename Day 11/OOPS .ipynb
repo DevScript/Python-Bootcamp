{
 "cells": [
  {
   "cell_type": "markdown",
   "metadata": {},
   "source": [
    "# Object Oriented Programming by `Mr. Harshit Dawar!`\n",
    "* Class\n",
    "* Object\n",
    "* Properties of OOP\n",
    "* Super keyword\n",
    "* Constructor\n",
    "* Multiple objects of a class"
   ]
  },
  {
   "cell_type": "code",
   "execution_count": 23,
   "metadata": {},
   "outputs": [],
   "source": [
    "class Vehicle:\n",
    "    \n",
    "    # Constructor \n",
    "    def __init__(self, n, E):\n",
    "        self.numberOfTyres = n\n",
    "        self.EngineCC = E\n",
    "    \n",
    "    def getParameters(self, numberOfTyres = 4, EngineCC = 955):\n",
    "        print(\"Class Attributes \\nNOT {} ECC {}\".format(self.numberOfTyres, self.EngineCC))\n",
    "        print(\"Temporary Parameters \\nNOT {} ECC {}\".format(numberOfTyres, EngineCC))\n",
    "        \n",
    "    def display(self):\n",
    "        print(self.numberOfTyres, self.EngineCC)\n",
    "        \n",
    "    def add(self, x, y):\n",
    "        return x + y"
   ]
  },
  {
   "cell_type": "code",
   "execution_count": 24,
   "metadata": {},
   "outputs": [],
   "source": [
    "# Data is Stored always in object, not in class.\n",
    "V = Vehicle(5, 10)"
   ]
  },
  {
   "cell_type": "code",
   "execution_count": 21,
   "metadata": {},
   "outputs": [
    {
     "name": "stdout",
     "output_type": "stream",
     "text": [
      "5 10\n"
     ]
    }
   ],
   "source": [
    "V.display()"
   ]
  },
  {
   "cell_type": "code",
   "execution_count": 25,
   "metadata": {},
   "outputs": [
    {
     "data": {
      "text/plain": [
       "12"
      ]
     },
     "execution_count": 25,
     "metadata": {},
     "output_type": "execute_result"
    }
   ],
   "source": [
    "V.add(5, 7)"
   ]
  },
  {
   "cell_type": "code",
   "execution_count": 22,
   "metadata": {},
   "outputs": [
    {
     "name": "stdout",
     "output_type": "stream",
     "text": [
      "Class Attributes \n",
      "NOT 5 ECC 10\n",
      "Temporary Parameters \n",
      "NOT 4 ECC 955\n"
     ]
    }
   ],
   "source": [
    "V.getParameters()"
   ]
  },
  {
   "cell_type": "markdown",
   "metadata": {},
   "source": [
    "## Properties of Object Oriented Programming(OOP)\n",
    "* Abstraction\n",
    "* Inheritance\n",
    "* Polymorphism\n",
    "* Encapsulation"
   ]
  },
  {
   "cell_type": "markdown",
   "metadata": {},
   "source": [
    "## Polymorphism\n",
    "* Overloading\n",
    "* Overriding"
   ]
  },
  {
   "cell_type": "code",
   "execution_count": 36,
   "metadata": {},
   "outputs": [],
   "source": [
    "class Shapes:\n",
    "    def __init__(self, side = 5):\n",
    "        self.side = side\n",
    "        \n",
    "    def calArea(self):\n",
    "        print(self.side ** 2)"
   ]
  },
  {
   "cell_type": "code",
   "execution_count": 39,
   "metadata": {},
   "outputs": [],
   "source": [
    "square = Shapes(7)"
   ]
  },
  {
   "cell_type": "code",
   "execution_count": 40,
   "metadata": {},
   "outputs": [
    {
     "name": "stdout",
     "output_type": "stream",
     "text": [
      "49\n"
     ]
    }
   ],
   "source": [
    "square.calArea()"
   ]
  },
  {
   "cell_type": "code",
   "execution_count": 41,
   "metadata": {},
   "outputs": [],
   "source": [
    "square.side = 15"
   ]
  },
  {
   "cell_type": "code",
   "execution_count": 42,
   "metadata": {},
   "outputs": [
    {
     "name": "stdout",
     "output_type": "stream",
     "text": [
      "225\n"
     ]
    }
   ],
   "source": [
    "square.calArea()"
   ]
  },
  {
   "cell_type": "markdown",
   "metadata": {},
   "source": [
    "### Encapsulation"
   ]
  },
  {
   "cell_type": "code",
   "execution_count": 57,
   "metadata": {},
   "outputs": [],
   "source": [
    "class Shapes5:\n",
    "    def __init__(self, side = 5):\n",
    "        self.__side = side\n",
    "        \n",
    "    def calArea(self):\n",
    "        print(self.__side ** 2)"
   ]
  },
  {
   "cell_type": "code",
   "execution_count": 60,
   "metadata": {},
   "outputs": [],
   "source": [
    "squares1 = Shapes5(9)"
   ]
  },
  {
   "cell_type": "code",
   "execution_count": 61,
   "metadata": {},
   "outputs": [
    {
     "name": "stdout",
     "output_type": "stream",
     "text": [
      "81\n"
     ]
    }
   ],
   "source": [
    "squares1.calArea()"
   ]
  },
  {
   "cell_type": "code",
   "execution_count": 62,
   "metadata": {},
   "outputs": [],
   "source": [
    "squares1.side = 10"
   ]
  },
  {
   "cell_type": "code",
   "execution_count": 63,
   "metadata": {},
   "outputs": [
    {
     "name": "stdout",
     "output_type": "stream",
     "text": [
      "81\n"
     ]
    }
   ],
   "source": [
    "squares1.calArea()"
   ]
  },
  {
   "cell_type": "markdown",
   "metadata": {},
   "source": [
    "## Inheritance"
   ]
  },
  {
   "cell_type": "code",
   "execution_count": 64,
   "metadata": {},
   "outputs": [],
   "source": [
    "class InheritanceShapes:\n",
    "    def __init__(self):\n",
    "        print(\"Welcome to Inheritance topic in Python!\")\n",
    "        self.area = 0\n",
    "        \n",
    "    def displayArea(self):\n",
    "        print(\"Area is: {}\".format(self.area))\n",
    "        \n",
    "    def getParameters(self, side):\n",
    "        self.area = side ** 2"
   ]
  },
  {
   "cell_type": "code",
   "execution_count": 65,
   "metadata": {},
   "outputs": [
    {
     "name": "stdout",
     "output_type": "stream",
     "text": [
      "Welcome to Inheritance topic in Python!\n",
      "Area is: 81\n"
     ]
    }
   ],
   "source": [
    "obj = InheritanceShapes()\n",
    "obj.getParameters(9)\n",
    "obj.displayArea()"
   ]
  },
  {
   "cell_type": "code",
   "execution_count": 70,
   "metadata": {},
   "outputs": [],
   "source": [
    "class Rectangle(InheritanceShapes):\n",
    "    def __init__(self):\n",
    "        super().__init__()\n",
    "\n",
    "    # Overriding the getParameters Parent Class Function\n",
    "    def getParameters(self, length, breadth):\n",
    "        self.area = 2 * (length + breadth)"
   ]
  },
  {
   "cell_type": "code",
   "execution_count": 71,
   "metadata": {},
   "outputs": [
    {
     "name": "stdout",
     "output_type": "stream",
     "text": [
      "Welcome to Inheritance topic in Python!\n"
     ]
    }
   ],
   "source": [
    "R = Rectangle()"
   ]
  },
  {
   "cell_type": "code",
   "execution_count": 72,
   "metadata": {},
   "outputs": [],
   "source": [
    "R.getParameters(5, 3)"
   ]
  },
  {
   "cell_type": "code",
   "execution_count": 73,
   "metadata": {},
   "outputs": [
    {
     "name": "stdout",
     "output_type": "stream",
     "text": [
      "Area is: 16\n"
     ]
    }
   ],
   "source": [
    "R.displayArea()"
   ]
  },
  {
   "cell_type": "code",
   "execution_count": 75,
   "metadata": {},
   "outputs": [
    {
     "name": "stdout",
     "output_type": "stream",
     "text": [
      "Welcome to Inheritance topic in Python!\n",
      "Area is: 32\n"
     ]
    }
   ],
   "source": [
    "S = Rectangle()\n",
    "S.getParameters(7, 9)\n",
    "S.displayArea()"
   ]
  },
  {
   "cell_type": "markdown",
   "metadata": {},
   "source": [
    "## Abstraction\n",
    "* It means to hide the complexity from the user & only show the required parts."
   ]
  }
 ],
 "metadata": {
  "kernelspec": {
   "display_name": "Python 3",
   "language": "python",
   "name": "python3"
  },
  "language_info": {
   "codemirror_mode": {
    "name": "ipython",
    "version": 3
   },
   "file_extension": ".py",
   "mimetype": "text/x-python",
   "name": "python",
   "nbconvert_exporter": "python",
   "pygments_lexer": "ipython3",
   "version": "3.7.9"
  }
 },
 "nbformat": 4,
 "nbformat_minor": 4
}
